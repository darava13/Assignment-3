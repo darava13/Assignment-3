{
 "cells": [
  {
   "cell_type": "code",
   "execution_count": 52,
   "id": "dbc2af35",
   "metadata": {},
   "outputs": [],
   "source": [
    "import glob\n",
    "from matplotlib import pyplot as plt\n",
    "from matplotlib import image as mpimg\n",
    "from skimage import color\n",
    "from skimage import io\n",
    "import PIL\n",
    "import pandas as pd\n",
    "import random\n",
    "import cv2\n",
    "import numpy as np\n",
    "from sklearn import preprocessing\n",
    "import csv\n",
    "from mlxtend.preprocessing import TransactionEncoder\n",
    "from mlxtend.frequent_patterns import apriori, association_rules\n",
    "from tensorflow.keras import Sequential\n",
    "from tensorflow.keras.layers import Dense,MaxPooling2D,Conv2D,Flatten\n",
    "from tensorflow.keras.utils import to_categorical\n",
    "\n",
    "import warnings\n",
    "warnings.filterwarnings(\"ignore\")"
   ]
  },
  {
   "cell_type": "code",
   "execution_count": 3,
   "id": "b2551a86",
   "metadata": {},
   "outputs": [],
   "source": [
    "csv_path='Grocery_Items_12.csv'\n",
    "data=pd.read_csv(csv_path).values\n"
   ]
  },
  {
   "cell_type": "code",
   "execution_count": 19,
   "id": "d585995c",
   "metadata": {},
   "outputs": [],
   "source": [
    "groceries=[]\n",
    "for row in data:\n",
    "    groceries.append([value for value in row if value not in [np.nan,'']])\n",
    "            "
   ]
  },
  {
   "cell_type": "code",
   "execution_count": 21,
   "id": "2ee4dfe1",
   "metadata": {},
   "outputs": [],
   "source": [
    "te = TransactionEncoder()\n",
    "te_ary = te.fit(groceries).transform(groceries)\n",
    "transaction_data= pd.DataFrame(te_ary, columns=te.columns_)"
   ]
  },
  {
   "cell_type": "code",
   "execution_count": 22,
   "id": "8876a5af",
   "metadata": {},
   "outputs": [],
   "source": [
    "#min sup=0.01,min_conf=0.1"
   ]
  },
  {
   "cell_type": "code",
   "execution_count": 23,
   "id": "01eca293",
   "metadata": {},
   "outputs": [
    {
     "data": {
      "text/html": [
       "<div>\n",
       "<style scoped>\n",
       "    .dataframe tbody tr th:only-of-type {\n",
       "        vertical-align: middle;\n",
       "    }\n",
       "\n",
       "    .dataframe tbody tr th {\n",
       "        vertical-align: top;\n",
       "    }\n",
       "\n",
       "    .dataframe thead th {\n",
       "        text-align: right;\n",
       "    }\n",
       "</style>\n",
       "<table border=\"1\" class=\"dataframe\">\n",
       "  <thead>\n",
       "    <tr style=\"text-align: right;\">\n",
       "      <th></th>\n",
       "      <th>support</th>\n",
       "      <th>itemsets</th>\n",
       "    </tr>\n",
       "  </thead>\n",
       "  <tbody>\n",
       "    <tr>\n",
       "      <th>0</th>\n",
       "      <td>0.022125</td>\n",
       "      <td>(UHT-milk)</td>\n",
       "    </tr>\n",
       "    <tr>\n",
       "      <th>1</th>\n",
       "      <td>0.031625</td>\n",
       "      <td>(beef)</td>\n",
       "    </tr>\n",
       "    <tr>\n",
       "      <th>2</th>\n",
       "      <td>0.021375</td>\n",
       "      <td>(berries)</td>\n",
       "    </tr>\n",
       "    <tr>\n",
       "      <th>3</th>\n",
       "      <td>0.015125</td>\n",
       "      <td>(beverages)</td>\n",
       "    </tr>\n",
       "    <tr>\n",
       "      <th>4</th>\n",
       "      <td>0.049500</td>\n",
       "      <td>(bottled beer)</td>\n",
       "    </tr>\n",
       "    <tr>\n",
       "      <th>...</th>\n",
       "      <td>...</td>\n",
       "      <td>...</td>\n",
       "    </tr>\n",
       "    <tr>\n",
       "      <th>63</th>\n",
       "      <td>0.010250</td>\n",
       "      <td>(other vegetables, soda)</td>\n",
       "    </tr>\n",
       "    <tr>\n",
       "      <th>64</th>\n",
       "      <td>0.015625</td>\n",
       "      <td>(whole milk, other vegetables)</td>\n",
       "    </tr>\n",
       "    <tr>\n",
       "      <th>65</th>\n",
       "      <td>0.012375</td>\n",
       "      <td>(whole milk, rolls/buns)</td>\n",
       "    </tr>\n",
       "    <tr>\n",
       "      <th>66</th>\n",
       "      <td>0.011750</td>\n",
       "      <td>(whole milk, soda)</td>\n",
       "    </tr>\n",
       "    <tr>\n",
       "      <th>67</th>\n",
       "      <td>0.010375</td>\n",
       "      <td>(whole milk, yogurt)</td>\n",
       "    </tr>\n",
       "  </tbody>\n",
       "</table>\n",
       "<p>68 rows × 2 columns</p>\n",
       "</div>"
      ],
      "text/plain": [
       "     support                        itemsets\n",
       "0   0.022125                      (UHT-milk)\n",
       "1   0.031625                          (beef)\n",
       "2   0.021375                       (berries)\n",
       "3   0.015125                     (beverages)\n",
       "4   0.049500                  (bottled beer)\n",
       "..       ...                             ...\n",
       "63  0.010250        (other vegetables, soda)\n",
       "64  0.015625  (whole milk, other vegetables)\n",
       "65  0.012375        (whole milk, rolls/buns)\n",
       "66  0.011750              (whole milk, soda)\n",
       "67  0.010375            (whole milk, yogurt)\n",
       "\n",
       "[68 rows x 2 columns]"
      ]
     },
     "execution_count": 23,
     "metadata": {},
     "output_type": "execute_result"
    }
   ],
   "source": [
    "freqitemsets = apriori(transaction_data, min_support=0.01, use_colnames=True)\n",
    "freqitemsets"
   ]
  },
  {
   "cell_type": "code",
   "execution_count": 24,
   "id": "d5474115",
   "metadata": {},
   "outputs": [
    {
     "data": {
      "text/html": [
       "<div>\n",
       "<style scoped>\n",
       "    .dataframe tbody tr th:only-of-type {\n",
       "        vertical-align: middle;\n",
       "    }\n",
       "\n",
       "    .dataframe tbody tr th {\n",
       "        vertical-align: top;\n",
       "    }\n",
       "\n",
       "    .dataframe thead th {\n",
       "        text-align: right;\n",
       "    }\n",
       "</style>\n",
       "<table border=\"1\" class=\"dataframe\">\n",
       "  <thead>\n",
       "    <tr style=\"text-align: right;\">\n",
       "      <th></th>\n",
       "      <th>antecedents</th>\n",
       "      <th>consequents</th>\n",
       "      <th>antecedent support</th>\n",
       "      <th>consequent support</th>\n",
       "      <th>support</th>\n",
       "      <th>confidence</th>\n",
       "      <th>lift</th>\n",
       "      <th>leverage</th>\n",
       "      <th>conviction</th>\n",
       "    </tr>\n",
       "  </thead>\n",
       "  <tbody>\n",
       "    <tr>\n",
       "      <th>0</th>\n",
       "      <td>(soda)</td>\n",
       "      <td>(other vegetables)</td>\n",
       "      <td>0.094500</td>\n",
       "      <td>0.12375</td>\n",
       "      <td>0.010250</td>\n",
       "      <td>0.108466</td>\n",
       "      <td>0.876490</td>\n",
       "      <td>-0.001444</td>\n",
       "      <td>0.982856</td>\n",
       "    </tr>\n",
       "    <tr>\n",
       "      <th>1</th>\n",
       "      <td>(whole milk)</td>\n",
       "      <td>(other vegetables)</td>\n",
       "      <td>0.155500</td>\n",
       "      <td>0.12375</td>\n",
       "      <td>0.015625</td>\n",
       "      <td>0.100482</td>\n",
       "      <td>0.811978</td>\n",
       "      <td>-0.003618</td>\n",
       "      <td>0.974133</td>\n",
       "    </tr>\n",
       "    <tr>\n",
       "      <th>2</th>\n",
       "      <td>(other vegetables)</td>\n",
       "      <td>(whole milk)</td>\n",
       "      <td>0.123750</td>\n",
       "      <td>0.15550</td>\n",
       "      <td>0.015625</td>\n",
       "      <td>0.126263</td>\n",
       "      <td>0.811978</td>\n",
       "      <td>-0.003618</td>\n",
       "      <td>0.966538</td>\n",
       "    </tr>\n",
       "    <tr>\n",
       "      <th>3</th>\n",
       "      <td>(rolls/buns)</td>\n",
       "      <td>(whole milk)</td>\n",
       "      <td>0.108375</td>\n",
       "      <td>0.15550</td>\n",
       "      <td>0.012375</td>\n",
       "      <td>0.114187</td>\n",
       "      <td>0.734321</td>\n",
       "      <td>-0.004477</td>\n",
       "      <td>0.953361</td>\n",
       "    </tr>\n",
       "    <tr>\n",
       "      <th>4</th>\n",
       "      <td>(soda)</td>\n",
       "      <td>(whole milk)</td>\n",
       "      <td>0.094500</td>\n",
       "      <td>0.15550</td>\n",
       "      <td>0.011750</td>\n",
       "      <td>0.124339</td>\n",
       "      <td>0.799605</td>\n",
       "      <td>-0.002945</td>\n",
       "      <td>0.964414</td>\n",
       "    </tr>\n",
       "    <tr>\n",
       "      <th>5</th>\n",
       "      <td>(yogurt)</td>\n",
       "      <td>(whole milk)</td>\n",
       "      <td>0.082000</td>\n",
       "      <td>0.15550</td>\n",
       "      <td>0.010375</td>\n",
       "      <td>0.126524</td>\n",
       "      <td>0.813662</td>\n",
       "      <td>-0.002376</td>\n",
       "      <td>0.966827</td>\n",
       "    </tr>\n",
       "  </tbody>\n",
       "</table>\n",
       "</div>"
      ],
      "text/plain": [
       "          antecedents         consequents  antecedent support  ...      lift  leverage  conviction\n",
       "0              (soda)  (other vegetables)            0.094500  ...  0.876490 -0.001444    0.982856\n",
       "1        (whole milk)  (other vegetables)            0.155500  ...  0.811978 -0.003618    0.974133\n",
       "2  (other vegetables)        (whole milk)            0.123750  ...  0.811978 -0.003618    0.966538\n",
       "3        (rolls/buns)        (whole milk)            0.108375  ...  0.734321 -0.004477    0.953361\n",
       "4              (soda)        (whole milk)            0.094500  ...  0.799605 -0.002945    0.964414\n",
       "5            (yogurt)        (whole milk)            0.082000  ...  0.813662 -0.002376    0.966827\n",
       "\n",
       "[6 rows x 9 columns]"
      ]
     },
     "execution_count": 24,
     "metadata": {},
     "output_type": "execute_result"
    }
   ],
   "source": [
    "association_rules(freqitemsets,min_threshold=0.1,metric=\"confidence\")"
   ]
  },
  {
   "cell_type": "code",
   "execution_count": 25,
   "id": "a6bfffe7",
   "metadata": {},
   "outputs": [],
   "source": [
    "def get_rules(sup,conf):\n",
    "    freqitemsets=apriori(transaction_data,min_support=sup,use_colnames=True)\n",
    "    rules=association_rules(freqitemsets,min_threshold=conf,metric='confidence')\n",
    "    return rules"
   ]
  },
  {
   "cell_type": "code",
   "execution_count": 27,
   "id": "d893053c",
   "metadata": {},
   "outputs": [],
   "source": [
    "msv,mct,num_rules=[],[],[]\n",
    "for i in ( 0.001, 0.005, 0.01, 0.05):\n",
    "    for j in ( 0.05, 0.075, 0.1):\n",
    "        rules=get_rules(i,j)\n",
    "        msv.append(i)\n",
    "        mct.append(j)\n",
    "        num_rules.append(len(rules))\n",
    "\n",
    "        "
   ]
  },
  {
   "cell_type": "code",
   "execution_count": 29,
   "id": "b7fd25b7",
   "metadata": {},
   "outputs": [
    {
     "data": {
      "text/plain": [
       "<AxesSubplot:xlabel='msv', ylabel='mct'>"
      ]
     },
     "execution_count": 29,
     "metadata": {},
     "output_type": "execute_result"
    },
    {
     "data": {
      "image/png": "[encoded data removed]",
      "text/plain": [
       "<Figure size 640x480 with 2 Axes>"
      ]
     },
     "metadata": {},
     "output_type": "display_data"
    }
   ],
   "source": [
    "import seaborn as sns\n",
    "k= pd.DataFrame({'msv': msv, 'mct': mct, 'num_rules': num_rules})\n",
    "\n",
    "sns.heatmap(k.pivot('mct','msv','num_rules'),annot=True)"
   ]
  },
  {
   "cell_type": "code",
   "execution_count": 31,
   "id": "8771e712",
   "metadata": {},
   "outputs": [],
   "source": [
    "# minimum support = 0.005"
   ]
  },
  {
   "cell_type": "code",
   "execution_count": 32,
   "id": "5cd7d2cc",
   "metadata": {},
   "outputs": [
    {
     "data": {
      "text/html": [
       "<div>\n",
       "<style scoped>\n",
       "    .dataframe tbody tr th:only-of-type {\n",
       "        vertical-align: middle;\n",
       "    }\n",
       "\n",
       "    .dataframe tbody tr th {\n",
       "        vertical-align: top;\n",
       "    }\n",
       "\n",
       "    .dataframe thead th {\n",
       "        text-align: right;\n",
       "    }\n",
       "</style>\n",
       "<table border=\"1\" class=\"dataframe\">\n",
       "  <thead>\n",
       "    <tr style=\"text-align: right;\">\n",
       "      <th></th>\n",
       "      <th>antecedents</th>\n",
       "      <th>consequents</th>\n",
       "      <th>antecedent support</th>\n",
       "      <th>consequent support</th>\n",
       "      <th>support</th>\n",
       "      <th>confidence</th>\n",
       "      <th>lift</th>\n",
       "      <th>leverage</th>\n",
       "      <th>conviction</th>\n",
       "    </tr>\n",
       "  </thead>\n",
       "  <tbody>\n",
       "    <tr>\n",
       "      <th>1</th>\n",
       "      <td>(bottled beer)</td>\n",
       "      <td>(whole milk)</td>\n",
       "      <td>0.049500</td>\n",
       "      <td>0.155500</td>\n",
       "      <td>0.007875</td>\n",
       "      <td>0.159091</td>\n",
       "      <td>1.023093</td>\n",
       "      <td>0.000178</td>\n",
       "      <td>1.004270</td>\n",
       "    </tr>\n",
       "    <tr>\n",
       "      <th>19</th>\n",
       "      <td>(frankfurter)</td>\n",
       "      <td>(other vegetables)</td>\n",
       "      <td>0.037375</td>\n",
       "      <td>0.123750</td>\n",
       "      <td>0.005750</td>\n",
       "      <td>0.153846</td>\n",
       "      <td>1.243201</td>\n",
       "      <td>0.001125</td>\n",
       "      <td>1.035568</td>\n",
       "    </tr>\n",
       "    <tr>\n",
       "      <th>21</th>\n",
       "      <td>(frankfurter)</td>\n",
       "      <td>(whole milk)</td>\n",
       "      <td>0.037375</td>\n",
       "      <td>0.155500</td>\n",
       "      <td>0.005625</td>\n",
       "      <td>0.150502</td>\n",
       "      <td>0.967856</td>\n",
       "      <td>-0.000187</td>\n",
       "      <td>0.994116</td>\n",
       "    </tr>\n",
       "    <tr>\n",
       "      <th>23</th>\n",
       "      <td>(newspapers)</td>\n",
       "      <td>(whole milk)</td>\n",
       "      <td>0.040250</td>\n",
       "      <td>0.155500</td>\n",
       "      <td>0.006000</td>\n",
       "      <td>0.149068</td>\n",
       "      <td>0.958639</td>\n",
       "      <td>-0.000259</td>\n",
       "      <td>0.992442</td>\n",
       "    </tr>\n",
       "    <tr>\n",
       "      <th>67</th>\n",
       "      <td>(sausage)</td>\n",
       "      <td>(whole milk)</td>\n",
       "      <td>0.058125</td>\n",
       "      <td>0.155500</td>\n",
       "      <td>0.008250</td>\n",
       "      <td>0.141935</td>\n",
       "      <td>0.912768</td>\n",
       "      <td>-0.000788</td>\n",
       "      <td>0.984192</td>\n",
       "    </tr>\n",
       "    <tr>\n",
       "      <th>...</th>\n",
       "      <td>...</td>\n",
       "      <td>...</td>\n",
       "      <td>...</td>\n",
       "      <td>...</td>\n",
       "      <td>...</td>\n",
       "      <td>...</td>\n",
       "      <td>...</td>\n",
       "      <td>...</td>\n",
       "      <td>...</td>\n",
       "    </tr>\n",
       "    <tr>\n",
       "      <th>70</th>\n",
       "      <td>(whole milk)</td>\n",
       "      <td>(shopping bags)</td>\n",
       "      <td>0.155500</td>\n",
       "      <td>0.047375</td>\n",
       "      <td>0.005750</td>\n",
       "      <td>0.036977</td>\n",
       "      <td>0.780528</td>\n",
       "      <td>-0.001617</td>\n",
       "      <td>0.989203</td>\n",
       "    </tr>\n",
       "    <tr>\n",
       "      <th>20</th>\n",
       "      <td>(whole milk)</td>\n",
       "      <td>(frankfurter)</td>\n",
       "      <td>0.155500</td>\n",
       "      <td>0.037375</td>\n",
       "      <td>0.005625</td>\n",
       "      <td>0.036174</td>\n",
       "      <td>0.967856</td>\n",
       "      <td>-0.000187</td>\n",
       "      <td>0.998754</td>\n",
       "    </tr>\n",
       "    <tr>\n",
       "      <th>43</th>\n",
       "      <td>(whole milk)</td>\n",
       "      <td>(pastry)</td>\n",
       "      <td>0.155500</td>\n",
       "      <td>0.052375</td>\n",
       "      <td>0.005375</td>\n",
       "      <td>0.034566</td>\n",
       "      <td>0.659970</td>\n",
       "      <td>-0.002769</td>\n",
       "      <td>0.981553</td>\n",
       "    </tr>\n",
       "    <tr>\n",
       "      <th>16</th>\n",
       "      <td>(whole milk)</td>\n",
       "      <td>(domestic eggs)</td>\n",
       "      <td>0.155500</td>\n",
       "      <td>0.038250</td>\n",
       "      <td>0.005125</td>\n",
       "      <td>0.032958</td>\n",
       "      <td>0.861652</td>\n",
       "      <td>-0.000823</td>\n",
       "      <td>0.994528</td>\n",
       "    </tr>\n",
       "    <tr>\n",
       "      <th>46</th>\n",
       "      <td>(whole milk)</td>\n",
       "      <td>(pork)</td>\n",
       "      <td>0.155500</td>\n",
       "      <td>0.037500</td>\n",
       "      <td>0.005125</td>\n",
       "      <td>0.032958</td>\n",
       "      <td>0.878885</td>\n",
       "      <td>-0.000706</td>\n",
       "      <td>0.995303</td>\n",
       "    </tr>\n",
       "  </tbody>\n",
       "</table>\n",
       "<p>82 rows × 9 columns</p>\n",
       "</div>"
      ],
      "text/plain": [
       "       antecedents         consequents  antecedent support  ...      lift  leverage  conviction\n",
       "1   (bottled beer)        (whole milk)            0.049500  ...  1.023093  0.000178    1.004270\n",
       "19   (frankfurter)  (other vegetables)            0.037375  ...  1.243201  0.001125    1.035568\n",
       "21   (frankfurter)        (whole milk)            0.037375  ...  0.967856 -0.000187    0.994116\n",
       "23    (newspapers)        (whole milk)            0.040250  ...  0.958639 -0.000259    0.992442\n",
       "67       (sausage)        (whole milk)            0.058125  ...  0.912768 -0.000788    0.984192\n",
       "..             ...                 ...                 ...  ...       ...       ...         ...\n",
       "70    (whole milk)     (shopping bags)            0.155500  ...  0.780528 -0.001617    0.989203\n",
       "20    (whole milk)       (frankfurter)            0.155500  ...  0.967856 -0.000187    0.998754\n",
       "43    (whole milk)            (pastry)            0.155500  ...  0.659970 -0.002769    0.981553\n",
       "16    (whole milk)     (domestic eggs)            0.155500  ...  0.861652 -0.000823    0.994528\n",
       "46    (whole milk)              (pork)            0.155500  ...  0.878885 -0.000706    0.995303\n",
       "\n",
       "[82 rows x 9 columns]"
      ]
     },
     "execution_count": 32,
     "metadata": {},
     "output_type": "execute_result"
    }
   ],
   "source": [
    "rules=get_rules(0.005,0)\n",
    "rules.sort_values(by='confidence',ascending=False)"
   ]
  },
  {
   "cell_type": "markdown",
   "id": "421f5ed7",
   "metadata": {},
   "source": [
    "### rule with highest confidence\n",
    "### (bottled beer)\t(whole milk)\t\n",
    "### confidence is 0.159"
   ]
  },
  {
   "cell_type": "code",
   "execution_count": 57,
   "id": "7d9220e9",
   "metadata": {},
   "outputs": [],
   "source": [
    "from sklearn.model_selection import train_test_split\n"
   ]
  },
  {
   "cell_type": "code",
   "execution_count": 54,
   "id": "c168ae40",
   "metadata": {},
   "outputs": [],
   "source": [
    "import os"
   ]
  },
  {
   "cell_type": "code",
   "execution_count": 51,
   "id": "b24d088c",
   "metadata": {},
   "outputs": [],
   "source": [
    "image_path='Cropped'"
   ]
  },
  {
   "cell_type": "code",
   "execution_count": 60,
   "id": "99a50460",
   "metadata": {},
   "outputs": [],
   "source": [
    "imgs=[]\n",
    "classes=[]\n",
    "for i,name in enumerate(os.listdir(image_path)):\n",
    "    path = os.path.join(image_path,name)\n",
    "    if os.path.isdir(path):\n",
    "        files = os.listdir(path)\n",
    "        images = [file for file in files if file.lower().endswith(('.jpg'))] \n",
    "        for image in images:\n",
    "            src_path = os.path.join(path, image)\n",
    "            img = cv2.imread(src_path)\n",
    "            img= cv2.resize(img,(32,32))\n",
    "            imgs.append(img)\n",
    "            classes.append(i)\n",
    "imgs=np.array(imgs)\n",
    "classes=np.array(classes)\n",
    "\n",
    "classes=to_categorical(classes,num_classes=4)\n",
    "x_train,x_test,y_train,y_test=train_test_split(imgs,classes,random_state=42,test_size=0.2,stratify=classes)"
   ]
  },
  {
   "cell_type": "code",
   "execution_count": 61,
   "id": "d146d556",
   "metadata": {},
   "outputs": [
    {
     "name": "stdout",
     "output_type": "stream",
     "text": [
      "x_train shape: (582, 32, 32, 3)\n",
      "582 train samples\n",
      "146 test samples\n"
     ]
    }
   ],
   "source": [
    "\n",
    "\n",
    "print(\"x_train shape:\", x_train.shape)\n",
    "print(x_train.shape[0], \"train samples\")\n",
    "print(x_test.shape[0], \"test samples\")"
   ]
  },
  {
   "cell_type": "code",
   "execution_count": 62,
   "id": "cdc59c42",
   "metadata": {},
   "outputs": [
    {
     "name": "stdout",
     "output_type": "stream",
     "text": [
      "Model: \"sequential\"\n",
      "_________________________________________________________________\n",
      "Layer (type)                 Output Shape              Param #   \n",
      "=================================================================\n",
      "conv2d (Conv2D)              (None, 30, 30, 8)         224       \n",
      "_________________________________________________________________\n",
      "max_pooling2d (MaxPooling2D) (None, 15, 15, 8)         0         \n",
      "_________________________________________________________________\n",
      "flatten (Flatten)            (None, 1800)              0         \n",
      "_________________________________________________________________\n",
      "dense (Dense)                (None, 16)                28816     \n",
      "_________________________________________________________________\n",
      "dense_1 (Dense)              (None, 4)                 68        \n",
      "=================================================================\n",
      "Total params: 29,108\n",
      "Trainable params: 29,108\n",
      "Non-trainable params: 0\n",
      "_________________________________________________________________\n"
     ]
    }
   ],
   "source": [
    "model = Sequential()\n",
    "model.add(Conv2D(8,(3,3),activation='relu', input_shape=x_train[0].shape))\n",
    "model.add(MaxPooling2D(2,2))\n",
    "model.add(Flatten())\n",
    "model.add(Dense(16,activation='relu'))\n",
    "model.add(Dense(4,activation='softmax'))\n",
    "\n",
    "model.summary()"
   ]
  },
  {
   "cell_type": "code",
   "execution_count": 63,
   "id": "38c4cd1c",
   "metadata": {},
   "outputs": [],
   "source": [
    "model.compile(optimizer='adam',loss='categorical_crossentropy',metrics=['accuracy'])"
   ]
  },
  {
   "cell_type": "code",
   "execution_count": 64,
   "id": "08575d63",
   "metadata": {},
   "outputs": [
    {
     "name": "stdout",
     "output_type": "stream",
     "text": [
      "Train on 582 samples, validate on 146 samples\n",
      "Epoch 1/20\n",
      "582/582 [==============================] - 1s 2ms/sample - loss: 5.6276 - accuracy: 0.2405 - val_loss: 1.3863 - val_accuracy: 0.2329\n",
      "Epoch 2/20\n",
      "582/582 [==============================] - 0s 521us/sample - loss: 1.3866 - accuracy: 0.2216 - val_loss: 1.3863 - val_accuracy: 0.2740\n",
      "Epoch 3/20\n",
      "582/582 [==============================] - 0s 487us/sample - loss: 1.3861 - accuracy: 0.2320 - val_loss: 1.3863 - val_accuracy: 0.2740\n",
      "Epoch 4/20\n",
      "582/582 [==============================] - 0s 464us/sample - loss: 1.3852 - accuracy: 0.2680 - val_loss: 1.3869 - val_accuracy: 0.2740\n",
      "Epoch 5/20\n",
      "582/582 [==============================] - 0s 473us/sample - loss: 1.3743 - accuracy: 0.2680 - val_loss: 1.3929 - val_accuracy: 0.2740\n",
      "Epoch 6/20\n",
      "582/582 [==============================] - 0s 494us/sample - loss: 1.3769 - accuracy: 0.2680 - val_loss: 1.3857 - val_accuracy: 0.2740\n",
      "Epoch 7/20\n",
      "582/582 [==============================] - 0s 524us/sample - loss: 1.3797 - accuracy: 0.2680 - val_loss: 1.3874 - val_accuracy: 0.2740\n",
      "Epoch 8/20\n",
      "582/582 [==============================] - 0s 497us/sample - loss: 1.3686 - accuracy: 0.2680 - val_loss: 1.3856 - val_accuracy: 0.2740\n",
      "Epoch 9/20\n",
      "582/582 [==============================] - 0s 453us/sample - loss: 1.3760 - accuracy: 0.2680 - val_loss: 1.3911 - val_accuracy: 0.2740\n",
      "Epoch 10/20\n",
      "582/582 [==============================] - 0s 462us/sample - loss: 1.3645 - accuracy: 0.2680 - val_loss: 1.3945 - val_accuracy: 0.2740\n",
      "Epoch 11/20\n",
      "582/582 [==============================] - 0s 573us/sample - loss: 1.3675 - accuracy: 0.2680 - val_loss: 1.3952 - val_accuracy: 0.2740\n",
      "Epoch 12/20\n",
      "582/582 [==============================] - 0s 527us/sample - loss: 1.3819 - accuracy: 0.2680 - val_loss: 1.3855 - val_accuracy: 0.2740\n",
      "Epoch 13/20\n",
      "582/582 [==============================] - 0s 447us/sample - loss: 1.3812 - accuracy: 0.2680 - val_loss: 1.3854 - val_accuracy: 0.2740\n",
      "Epoch 14/20\n",
      "582/582 [==============================] - 0s 493us/sample - loss: 1.3810 - accuracy: 0.2680 - val_loss: 1.3853 - val_accuracy: 0.2740\n",
      "Epoch 15/20\n",
      "582/582 [==============================] - 0s 515us/sample - loss: 1.3812 - accuracy: 0.2680 - val_loss: 1.3853 - val_accuracy: 0.2740\n",
      "Epoch 16/20\n",
      "582/582 [==============================] - 0s 507us/sample - loss: 1.3811 - accuracy: 0.2680 - val_loss: 1.3852 - val_accuracy: 0.2740\n",
      "Epoch 17/20\n",
      "582/582 [==============================] - 0s 506us/sample - loss: 1.3809 - accuracy: 0.2680 - val_loss: 1.3851 - val_accuracy: 0.2740\n",
      "Epoch 18/20\n",
      "582/582 [==============================] - 0s 513us/sample - loss: 1.3809 - accuracy: 0.2680 - val_loss: 1.3851 - val_accuracy: 0.2740\n",
      "Epoch 19/20\n",
      "582/582 [==============================] - 0s 522us/sample - loss: 1.3810 - accuracy: 0.2680 - val_loss: 1.3850 - val_accuracy: 0.2740\n",
      "Epoch 20/20\n",
      "582/582 [==============================] - 0s 516us/sample - loss: 1.3809 - accuracy: 0.2680 - val_loss: 1.3850 - val_accuracy: 0.2740\n"
     ]
    },
    {
     "data": {
      "text/plain": [
       "<tensorflow.python.keras.callbacks.History at 0x1b267378408>"
      ]
     },
     "execution_count": 64,
     "metadata": {},
     "output_type": "execute_result"
    }
   ],
   "source": [
    "model.fit(x_train, y_train, batch_size=10, epochs=20, validation_data=(x_test,y_test))"
   ]
  },
  {
   "cell_type": "code",
   "execution_count": 66,
   "id": "e6b054e8",
   "metadata": {},
   "outputs": [
    {
     "data": {
      "text/plain": [
       "<matplotlib.legend.Legend at 0x1b267206c88>"
      ]
     },
     "execution_count": 66,
     "metadata": {},
     "output_type": "execute_result"
    },
    {
     "data": {
      "image/png": "[encoded data removed]",
      "text/plain": [
       "<Figure size 640x480 with 1 Axes>"
      ]
     },
     "metadata": {},
     "output_type": "display_data"
    }
   ],
   "source": [
    "plt.plot(model.history.history['accuracy'], label='train_acc')\n",
    "plt.plot(model.history.history['val_accuracy'], label='val_acc')\n",
    "plt.xlabel('Epochs')\n",
    "plt.ylabel('Accuracy')\n",
    "plt.legend()"
   ]
  },
  {
   "cell_type": "markdown",
   "id": "45e3b9db",
   "metadata": {},
   "source": [
    "### model underfit"
   ]
  },
  {
   "cell_type": "code",
   "execution_count": 67,
   "id": "e5cd7fd8",
   "metadata": {},
   "outputs": [],
   "source": [
    "#916434471"
   ]
  },
  {
   "cell_type": "code",
   "execution_count": 68,
   "id": "476ac528",
   "metadata": {},
   "outputs": [],
   "source": [
    "#(a) Train the CNN using 2 other filter sizes: 5 × 5 and 7 × 7 for the convolution layer (i) with all\n",
    "#other parameters unchanged"
   ]
  },
  {
   "cell_type": "code",
   "execution_count": 69,
   "id": "99db77c0",
   "metadata": {},
   "outputs": [
    {
     "name": "stdout",
     "output_type": "stream",
     "text": [
      "Model: \"sequential_1\"\n",
      "_________________________________________________________________\n",
      "Layer (type)                 Output Shape              Param #   \n",
      "=================================================================\n",
      "conv2d_1 (Conv2D)            (None, 28, 28, 8)         608       \n",
      "_________________________________________________________________\n",
      "max_pooling2d_1 (MaxPooling2 (None, 14, 14, 8)         0         \n",
      "_________________________________________________________________\n",
      "flatten_1 (Flatten)          (None, 1568)              0         \n",
      "_________________________________________________________________\n",
      "dense_2 (Dense)              (None, 16)                25104     \n",
      "_________________________________________________________________\n",
      "dense_3 (Dense)              (None, 4)                 68        \n",
      "=================================================================\n",
      "Total params: 25,780\n",
      "Trainable params: 25,780\n",
      "Non-trainable params: 0\n",
      "_________________________________________________________________\n",
      "Train on 582 samples, validate on 146 samples\n",
      "Epoch 1/20\n",
      "582/582 [==============================] - 1s 2ms/sample - loss: 6.3003 - accuracy: 0.2440 - val_loss: 1.9998 - val_accuracy: 0.2671\n",
      "Epoch 2/20\n",
      "582/582 [==============================] - 0s 634us/sample - loss: 1.5617 - accuracy: 0.3832 - val_loss: 1.7601 - val_accuracy: 0.3219\n",
      "Epoch 3/20\n",
      "582/582 [==============================] - 0s 627us/sample - loss: 1.2264 - accuracy: 0.4777 - val_loss: 1.7096 - val_accuracy: 0.3219\n",
      "Epoch 4/20\n",
      "582/582 [==============================] - 0s 605us/sample - loss: 1.0329 - accuracy: 0.5515 - val_loss: 1.7945 - val_accuracy: 0.3356\n",
      "Epoch 5/20\n",
      "582/582 [==============================] - 0s 640us/sample - loss: 0.8889 - accuracy: 0.6306 - val_loss: 1.8628 - val_accuracy: 0.3151\n",
      "Epoch 6/20\n",
      "582/582 [==============================] - 0s 613us/sample - loss: 0.7625 - accuracy: 0.6856 - val_loss: 2.0632 - val_accuracy: 0.3082\n",
      "Epoch 7/20\n",
      "582/582 [==============================] - 0s 750us/sample - loss: 0.6969 - accuracy: 0.7268 - val_loss: 2.1413 - val_accuracy: 0.3288\n",
      "Epoch 8/20\n",
      "582/582 [==============================] - 0s 644us/sample - loss: 0.5754 - accuracy: 0.7818 - val_loss: 2.4758 - val_accuracy: 0.2808\n",
      "Epoch 9/20\n",
      "582/582 [==============================] - 0s 601us/sample - loss: 0.4952 - accuracy: 0.8144 - val_loss: 2.7271 - val_accuracy: 0.3014\n",
      "Epoch 10/20\n",
      "582/582 [==============================] - 0s 679us/sample - loss: 0.4324 - accuracy: 0.8471 - val_loss: 3.1704 - val_accuracy: 0.3082\n",
      "Epoch 11/20\n",
      "582/582 [==============================] - 0s 733us/sample - loss: 0.3630 - accuracy: 0.8763 - val_loss: 3.5231 - val_accuracy: 0.3219\n",
      "Epoch 12/20\n",
      "582/582 [==============================] - 0s 642us/sample - loss: 0.3397 - accuracy: 0.8969 - val_loss: 3.6083 - val_accuracy: 0.3082\n",
      "Epoch 13/20\n",
      "582/582 [==============================] - 0s 627us/sample - loss: 0.2724 - accuracy: 0.9175 - val_loss: 4.3372 - val_accuracy: 0.3082\n",
      "Epoch 14/20\n",
      "582/582 [==============================] - 0s 634us/sample - loss: 0.2159 - accuracy: 0.9433 - val_loss: 4.2254 - val_accuracy: 0.2808\n",
      "Epoch 15/20\n",
      "582/582 [==============================] - 0s 630us/sample - loss: 0.1783 - accuracy: 0.9570 - val_loss: 4.5169 - val_accuracy: 0.2740\n",
      "Epoch 16/20\n",
      "582/582 [==============================] - 0s 619us/sample - loss: 0.1552 - accuracy: 0.9605 - val_loss: 4.5584 - val_accuracy: 0.2945\n",
      "Epoch 17/20\n",
      "582/582 [==============================] - 0s 597us/sample - loss: 0.1274 - accuracy: 0.9656 - val_loss: 5.1035 - val_accuracy: 0.3219\n",
      "Epoch 18/20\n",
      "582/582 [==============================] - 0s 703us/sample - loss: 0.1065 - accuracy: 0.9708 - val_loss: 5.2098 - val_accuracy: 0.3219\n",
      "Epoch 19/20\n",
      "582/582 [==============================] - 0s 592us/sample - loss: 0.0950 - accuracy: 0.9708 - val_loss: 5.5542 - val_accuracy: 0.3493\n",
      "Epoch 20/20\n",
      "582/582 [==============================] - 0s 675us/sample - loss: 0.1085 - accuracy: 0.9759 - val_loss: 5.3947 - val_accuracy: 0.3356\n"
     ]
    },
    {
     "data": {
      "text/plain": [
       "<matplotlib.legend.Legend at 0x1b2695d7788>"
      ]
     },
     "execution_count": 69,
     "metadata": {},
     "output_type": "execute_result"
    },
    {
     "data": {
      "image/png": "[encoded data removed]",
      "text/plain": [
       "<Figure size 640x480 with 1 Axes>"
      ]
     },
     "metadata": {},
     "output_type": "display_data"
    }
   ],
   "source": [
    "model = Sequential()\n",
    "model.add(Conv2D(8,(5,5),activation='relu', input_shape=x_train[0].shape))\n",
    "model.add(MaxPooling2D(2,2))\n",
    "model.add(Flatten())\n",
    "model.add(Dense(16,activation='relu'))\n",
    "model.add(Dense(4,activation='softmax'))\n",
    "\n",
    "model.summary()\n",
    "\n",
    "model.compile(optimizer='adam',loss='categorical_crossentropy',metrics=['accuracy'])\n",
    "\n",
    "model.fit(x_train, y_train, batch_size=10, epochs=20, validation_data=(x_test,y_test))\n",
    "\n",
    "plt.plot(model.history.history['accuracy'], label='train_acc')\n",
    "plt.plot(model.history.history['val_accuracy'], label='val_acc')\n",
    "plt.xlabel('Epochs')\n",
    "plt.ylabel('Accuracy')\n",
    "plt.legend()"
   ]
  },
  {
   "cell_type": "markdown",
   "id": "a68b5aee",
   "metadata": {},
   "source": [
    "### model over fits"
   ]
  },
  {
   "cell_type": "code",
   "execution_count": 70,
   "id": "b9015534",
   "metadata": {},
   "outputs": [
    {
     "name": "stdout",
     "output_type": "stream",
     "text": [
      "Model: \"sequential_2\"\n",
      "_________________________________________________________________\n",
      "Layer (type)                 Output Shape              Param #   \n",
      "=================================================================\n",
      "conv2d_2 (Conv2D)            (None, 26, 26, 8)         1184      \n",
      "_________________________________________________________________\n",
      "max_pooling2d_2 (MaxPooling2 (None, 13, 13, 8)         0         \n",
      "_________________________________________________________________\n",
      "flatten_2 (Flatten)          (None, 1352)              0         \n",
      "_________________________________________________________________\n",
      "dense_4 (Dense)              (None, 16)                21648     \n",
      "_________________________________________________________________\n",
      "dense_5 (Dense)              (None, 4)                 68        \n",
      "=================================================================\n",
      "Total params: 22,900\n",
      "Trainable params: 22,900\n",
      "Non-trainable params: 0\n",
      "_________________________________________________________________\n",
      "Train on 582 samples, validate on 146 samples\n",
      "Epoch 1/20\n",
      "582/582 [==============================] - 1s 2ms/sample - loss: 10.9871 - accuracy: 0.2749 - val_loss: 1.5185 - val_accuracy: 0.2808\n",
      "Epoch 2/20\n",
      "582/582 [==============================] - 0s 777us/sample - loss: 1.4799 - accuracy: 0.2749 - val_loss: 1.4352 - val_accuracy: 0.2808\n",
      "Epoch 3/20\n",
      "582/582 [==============================] - 0s 776us/sample - loss: 1.3302 - accuracy: 0.3351 - val_loss: 1.4861 - val_accuracy: 0.2534\n",
      "Epoch 4/20\n",
      "582/582 [==============================] - 0s 755us/sample - loss: 1.2307 - accuracy: 0.3780 - val_loss: 1.4530 - val_accuracy: 0.2740\n",
      "Epoch 5/20\n",
      "582/582 [==============================] - 0s 852us/sample - loss: 1.1275 - accuracy: 0.4175 - val_loss: 1.5017 - val_accuracy: 0.2603\n",
      "Epoch 6/20\n",
      "582/582 [==============================] - 0s 837us/sample - loss: 1.0477 - accuracy: 0.4811 - val_loss: 1.8476 - val_accuracy: 0.2603\n",
      "Epoch 7/20\n",
      "582/582 [==============================] - 1s 864us/sample - loss: 0.9522 - accuracy: 0.5223 - val_loss: 1.6738 - val_accuracy: 0.3356\n",
      "Epoch 8/20\n",
      "582/582 [==============================] - 0s 790us/sample - loss: 0.8582 - accuracy: 0.6082 - val_loss: 1.7832 - val_accuracy: 0.3082\n",
      "Epoch 9/20\n",
      "582/582 [==============================] - 0s 774us/sample - loss: 0.7757 - accuracy: 0.6546 - val_loss: 2.0596 - val_accuracy: 0.3767\n",
      "Epoch 10/20\n",
      "582/582 [==============================] - 0s 784us/sample - loss: 0.7044 - accuracy: 0.7045 - val_loss: 2.2828 - val_accuracy: 0.3356\n",
      "Epoch 11/20\n",
      "582/582 [==============================] - 0s 807us/sample - loss: 0.6448 - accuracy: 0.7199 - val_loss: 2.3365 - val_accuracy: 0.3493\n",
      "Epoch 12/20\n",
      "582/582 [==============================] - 0s 788us/sample - loss: 0.6009 - accuracy: 0.7612 - val_loss: 3.1346 - val_accuracy: 0.3014\n",
      "Epoch 13/20\n",
      "582/582 [==============================] - 0s 788us/sample - loss: 0.6118 - accuracy: 0.7680 - val_loss: 2.7424 - val_accuracy: 0.3219\n",
      "Epoch 14/20\n",
      "582/582 [==============================] - 0s 767us/sample - loss: 0.5520 - accuracy: 0.7904 - val_loss: 3.7198 - val_accuracy: 0.3288\n",
      "Epoch 15/20\n",
      "582/582 [==============================] - 0s 785us/sample - loss: 0.4182 - accuracy: 0.8402 - val_loss: 3.2087 - val_accuracy: 0.3630\n",
      "Epoch 16/20\n",
      "582/582 [==============================] - 1s 902us/sample - loss: 0.4130 - accuracy: 0.8402 - val_loss: 3.4928 - val_accuracy: 0.3904\n",
      "Epoch 17/20\n",
      "582/582 [==============================] - 0s 794us/sample - loss: 1.1296 - accuracy: 0.5653 - val_loss: 1.6161 - val_accuracy: 0.3562\n",
      "Epoch 18/20\n",
      "582/582 [==============================] - 0s 771us/sample - loss: 0.8154 - accuracy: 0.6615 - val_loss: 2.4188 - val_accuracy: 0.3288\n",
      "Epoch 19/20\n",
      "582/582 [==============================] - 0s 762us/sample - loss: 0.6948 - accuracy: 0.7234 - val_loss: 2.5535 - val_accuracy: 0.3699\n",
      "Epoch 20/20\n",
      "582/582 [==============================] - 0s 855us/sample - loss: 0.6643 - accuracy: 0.7405 - val_loss: 2.6276 - val_accuracy: 0.3973\n"
     ]
    },
    {
     "data": {
      "text/plain": [
       "<matplotlib.legend.Legend at 0x1b26b3f8108>"
      ]
     },
     "execution_count": 70,
     "metadata": {},
     "output_type": "execute_result"
    },
    {
     "data": {
      "image/png": "[encoded data removed]",
      "text/plain": [
       "<Figure size 640x480 with 1 Axes>"
      ]
     },
     "metadata": {},
     "output_type": "display_data"
    }
   ],
   "source": [
    "\n",
    "model = Sequential()\n",
    "model.add(Conv2D(8,(7,7),activation='relu', input_shape=x_train[0].shape))\n",
    "model.add(MaxPooling2D(2,2))\n",
    "model.add(Flatten())\n",
    "model.add(Dense(16,activation='relu'))\n",
    "model.add(Dense(4,activation='softmax'))\n",
    "\n",
    "model.summary()\n",
    "\n",
    "model.compile(optimizer='adam',loss='categorical_crossentropy',metrics=['accuracy'])\n",
    "\n",
    "model.fit(x_train, y_train, batch_size=10, epochs=20, validation_data=(x_test,y_test))\n",
    "\n",
    "plt.plot(model.history.history['accuracy'], label='train_acc')\n",
    "plt.plot(model.history.history['val_accuracy'], label='val_acc')\n",
    "plt.xlabel('Epochs')\n",
    "plt.ylabel('Accuracy')\n",
    "plt.legend()"
   ]
  },
  {
   "cell_type": "markdown",
   "id": "9508ccc0",
   "metadata": {},
   "source": [
    "### model overfitted"
   ]
  },
  {
   "cell_type": "code",
   "execution_count": null,
   "id": "ac568f7c",
   "metadata": {},
   "outputs": [],
   "source": [
    "Reference : \n",
    "    https://rasbt.github.io/mlxtend/\n",
    "        https://seaborn.pydata.org/generated/seaborn.heatmap.html\n",
    "            https://www.kaggle.com/code/yassineghouzam/introduction-to-cnn-keras-0-997-top-6"
   ]
  }
 ],
 "metadata": {
  "kernelspec": {
   "display_name": "Python 3 (ipykernel)",
   "language": "python",
   "name": "python3"
  },
  "language_info": {
   "codemirror_mode": {
    "name": "ipython",
    "version": 3
   },
   "file_extension": ".py",
   "mimetype": "text/x-python",
   "name": "python",
   "nbconvert_exporter": "python",
   "pygments_lexer": "ipython3",
   "version": "3.7.4"
  }
 },
 "nbformat": 4,
 "nbformat_minor": 5
}
